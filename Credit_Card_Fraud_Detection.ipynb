{
  "cells": [
    {
      "cell_type": "markdown",
      "metadata": {
        "id": "view-in-github",
        "colab_type": "text"
      },
      "source": [
        "<a href=\"https://colab.research.google.com/github/phdepaula/Credit-Card-Fraud-Detection/blob/main/Credit_Card_Fraud_Detection.ipynb\" target=\"_parent\"><img src=\"https://colab.research.google.com/assets/colab-badge.svg\" alt=\"Open In Colab\"/></a>"
      ]
    },
    {
      "cell_type": "markdown",
      "metadata": {
        "id": "H-ycdPGkr-q1"
      },
      "source": [
        "# MVP - Machine Learning & Analytics\n",
        "\n",
        "\n",
        "**Student:** Pedro Henrique de Paula Alves"
      ]
    },
    {
      "cell_type": "markdown",
      "metadata": {
        "id": "zv-nkVVHtQ-s"
      },
      "source": [
        "## Problem Definition\n"
      ]
    },
    {
      "cell_type": "markdown",
      "metadata": {
        "id": "kNvZ83mMwPHb"
      },
      "source": [
        "### Title\n",
        "\n",
        "Credit Card Fraud Detection."
      ]
    },
    {
      "cell_type": "markdown",
      "metadata": {
        "id": "WcN6SlTsuRUx"
      },
      "source": [
        "### Description\n",
        "\n",
        "Due to the increasing use of credit cards on a daily basis, effective detection of fraudulent transactions is critical for card companies. This ensures that customers are not charged for unauthorized purchases, thus preserving financial security and consumer trust in credit card issuers."
      ]
    },
    {
      "cell_type": "markdown",
      "metadata": {
        "id": "vNUKrdQmyshD"
      },
      "source": [
        "### Dataset Information\n",
        "\n",
        "The dataset contains credit card transactions conducted by European cardholders in September 2013. Spanning two days, it recorded a total of 284,807 transactions, among which 492 were identified as fraudulent. This dataset exhibits a notable imbalance, with fraudulent transactions representing only 0.172% of the total volume.\n",
        "\n",
        "Comprising solely numerical input variables, the dataset results from a PCA transformation. Regrettably, due to confidentiality restrictions, original feature details and basic information remain undisclosed. Features V1 through V28 represent principal components derived from PCA, while 'Time' and 'Amount' remain unaltered. 'Time' signifies the time elapsed in seconds between each transaction and the first recorded transaction, while 'Amount' denotes the transaction value. The 'Amount' feature offers potential utility for example-dependent cost-sensitive learning.\n",
        "\n",
        "Within this dataset, the 'Class' feature serves as the response variable, denoting a value of 1 for fraudulent transactions and 0 otherwise. This delineation facilitates the identification and analysis of fraudulent activities within the dataset.ble, assuming a value of 1 for fraudulent transactions and 0 otherwise."
      ]
    },
    {
      "cell_type": "markdown",
      "metadata": {
        "id": "WV1VVYgfv8WY"
      },
      "source": [
        "---\n",
        "## Data Preparation\n"
      ]
    },
    {
      "cell_type": "markdown",
      "metadata": {
        "id": "skHCTfwM0_BE"
      },
      "source": [
        "### Imports\n",
        "\n",
        "Here all necessary libs will be imported."
      ]
    },
    {
      "cell_type": "code",
      "execution_count": null,
      "metadata": {
        "id": "asfN2-3K1E-f"
      },
      "outputs": [],
      "source": [
        "# Configuration to not display warnings\n",
        "import warnings\n",
        "\n",
        "warnings.filterwarnings(\"ignore\")\n",
        "\n",
        "from typing import Any, List, Tuple\n",
        "\n",
        "import matplotlib.pyplot as plt\n",
        "import numpy as np\n",
        "\n",
        "# Imports required\n",
        "import pandas as pd\n",
        "from sklearn.ensemble import (\n",
        "    AdaBoostClassifier,\n",
        "    BaggingClassifier,\n",
        "    ExtraTreesClassifier,\n",
        "    GradientBoostingClassifier,\n",
        "    RandomForestClassifier,\n",
        "    VotingClassifier,\n",
        ")\n",
        "from sklearn.feature_selection import RFE, SelectFromModel, SelectKBest, f_classif\n",
        "from sklearn.linear_model import LogisticRegression\n",
        "from sklearn.metrics import accuracy_score, classification_report\n",
        "from sklearn.model_selection import (\n",
        "    GridSearchCV,\n",
        "    StratifiedKFold,\n",
        "    cross_val_score,\n",
        "    train_test_split,\n",
        ")\n",
        "from sklearn.naive_bayes import GaussianNB\n",
        "from sklearn.neighbors import KNeighborsClassifier\n",
        "from sklearn.pipeline import Pipeline\n",
        "from sklearn.preprocessing import MinMaxScaler, StandardScaler\n",
        "from sklearn.svm import SVC\n",
        "from sklearn.tree import DecisionTreeClassifier"
      ]
    },
    {
      "cell_type": "markdown",
      "metadata": {
        "id": "jkIvFpg7uDPH"
      },
      "source": [
        "### Dataset Loading\n",
        "\n",
        "Here the dataset will be loaded.\n",
        "\n",
        "As the dataset exceeded the storage limit supported by GitHub, the original dataset was split into two csv files and then joined into a single dataframe."
      ]
    },
    {
      "cell_type": "code",
      "execution_count": null,
      "metadata": {
        "colab": {
          "base_uri": "https://localhost:8080/"
        },
        "id": "5dBul0KxCoul",
        "outputId": "219650c9-0215-419b-d573-c750fc44f5a4"
      },
      "outputs": [
        {
          "name": "stdout",
          "output_type": "stream",
          "text": [
            "   Time        V1        V2        V3        V4        V5        V6        V7  \\\n",
            "0   0.0 -1.359807 -0.072781  2.536347  1.378155 -0.338321  0.462388  0.239599   \n",
            "1   0.0  1.191857  0.266151  0.166480  0.448154  0.060018 -0.082361 -0.078803   \n",
            "2   1.0 -1.358354 -1.340163  1.773209  0.379780 -0.503198  1.800499  0.791461   \n",
            "3   1.0 -0.966272 -0.185226  1.792993 -0.863291 -0.010309  1.247203  0.237609   \n",
            "4   2.0 -1.158233  0.877737  1.548718  0.403034 -0.407193  0.095921  0.592941   \n",
            "\n",
            "         V8        V9  ...       V21       V22       V23       V24       V25  \\\n",
            "0  0.098698  0.363787  ... -0.018307  0.277838 -0.110474  0.066928  0.128539   \n",
            "1  0.085102 -0.255425  ... -0.225775 -0.638672  0.101288 -0.339846  0.167170   \n",
            "2  0.247676 -1.514654  ...  0.247998  0.771679  0.909412 -0.689281 -0.327642   \n",
            "3  0.377436 -1.387024  ... -0.108300  0.005274 -0.190321 -1.175575  0.647376   \n",
            "4 -0.270533  0.817739  ... -0.009431  0.798278 -0.137458  0.141267 -0.206010   \n",
            "\n",
            "        V26       V27       V28  Amount  Class  \n",
            "0 -0.189115  0.133558 -0.021053  149.62      0  \n",
            "1  0.125895 -0.008983  0.014724    2.69      0  \n",
            "2 -0.139097 -0.055353 -0.059752  378.66      0  \n",
            "3 -0.221929  0.062723  0.061458  123.50      0  \n",
            "4  0.502292  0.219422  0.215153   69.99      0  \n",
            "\n",
            "[5 rows x 31 columns]\n"
          ]
        }
      ],
      "source": [
        "# CSV file URLs\n",
        "first_url = \"https://raw.githubusercontent.com/phdepaula/Credit-Card-Fraud-Detection/main/dataset/credit_card_dataset_1.csv\"\n",
        "second_url = \"https://raw.githubusercontent.com/phdepaula/Credit-Card-Fraud-Detection/main/dataset/credit_card_dataset_2.csv\"\n",
        "\n",
        "# Read CSV files and create DataFrames\n",
        "dataset_1 = pd.read_csv(first_url, delimiter=',')\n",
        "dataset_2 = pd.read_csv(second_url, delimiter=',')\n",
        "\n",
        "# Concatenate the DataFrames\n",
        "dataset = pd.concat([dataset_1, dataset_2], ignore_index=True)\n",
        "\n",
        "# Show first rows of combined DataFrame\n",
        "print(dataset.head())"
      ]
    },
    {
      "cell_type": "markdown",
      "metadata": {
        "id": "ubTZefueyUgf"
      },
      "source": [
        "### Training and Test Set\n",
        "\n",
        "\n",
        "Defining training and testing sets, reserving a percentage of 20% of the dataset for testing."
      ]
    },
    {
      "cell_type": "code",
      "execution_count": null,
      "metadata": {
        "id": "xV-Jcz1ay3Qj"
      },
      "outputs": [],
      "source": [
        "array = dataset.values\n",
        "X = array[:, 0:30]\n",
        "y = array[:, 30]\n",
        "\n",
        "test_size = 0.20\n",
        "seed = 7\n",
        "\n",
        "# Separation into training and testing bases (holdout)\n",
        "X_train, X_test, y_train, y_test = train_test_split(\n",
        "    X,\n",
        "    y,\n",
        "    test_size=test_size,\n",
        "    shuffle=True,\n",
        "    random_state=seed,\n",
        "    stratify=y\n",
        ")"
      ]
    },
    {
      "cell_type": "markdown",
      "metadata": {
        "id": "UO-Q1ftOHN0n"
      },
      "source": [
        "### General Functions\n",
        "\n",
        "The general purpose functions used throughout the project will be attached here."
      ]
    },
    {
      "cell_type": "code",
      "execution_count": null,
      "metadata": {
        "id": "bY2Qn2LqIcMV"
      },
      "outputs": [],
      "source": [
        "def add_element_to_list(models: List, element: Any) -> List:\n",
        "    models.append(element)\n",
        "\n",
        "def plot_graph(suptitle: str, results: List, names: List) -> None:\n",
        "    fig = plt.figure(figsize=(15,10))\n",
        "    fig.suptitle(suptitle)\n",
        "    ax = fig.add_subplot(111)\n",
        "    plt.boxplot(results)\n",
        "    ax.set_xticklabels(names)\n",
        "    plt.show()"
      ]
    },
    {
      "cell_type": "markdown",
      "metadata": {
        "id": "tv8DatXmCbPD"
      },
      "source": [
        "### Cross Validation\n",
        "\n",
        "In order to obtain a more realistic performance estimate, cross-validation will be carried out."
      ]
    },
    {
      "cell_type": "markdown",
      "metadata": {
        "id": "kIuiduZCHvzq"
      },
      "source": [
        "#### Algorithm Test\n",
        "\n",
        "The machine learning algorithms adopted at this stage were KNN, Classification Tree, Naive Bayes, SVM and Logistic Regression."
      ]
    },
    {
      "cell_type": "code",
      "execution_count": null,
      "metadata": {
        "id": "xyt9vwGqCU1n"
      },
      "outputs": [],
      "source": [
        "# Defining constants\n",
        "\n",
        "# Setting cross-validation parameters and partitions\n",
        "scoring = 'accuracy'\n",
        "number_partitions = 10\n",
        "seed = 7\n",
        "k_fold = StratifiedKFold(n_splits=number_partitions, shuffle=True, random_state=seed)\n",
        "\n",
        "# Setting a global seed\n",
        "np.random.seed(7)"
      ]
    },
    {
      "cell_type": "code",
      "execution_count": null,
      "metadata": {
        "colab": {
          "base_uri": "https://localhost:8080/",
          "height": 1000
        },
        "id": "04eNpwQJFuXz",
        "outputId": "336dc5dc-0afa-4364-fb1b-9f9b629c9bf9"
      },
      "outputs": [
        {
          "name": "stdout",
          "output_type": "stream",
          "text": [
            "LR: 0.998969 (0.000255)\n",
            "KNN: 0.998363 (0.000068)\n",
            "CART: 0.999122 (0.000146)\n",
            "NB: 0.992618 (0.000310)\n",
            "SVM: 0.998271 (0.000021)\n"
          ]
        },
        {
          "data": {
            "image/png": "[encoded data removed]",
            "text/plain": [
              "<Figure size 1500x1000 with 1 Axes>"
            ]
          },
          "metadata": {},
          "output_type": "display_data"
        }
      ],
      "source": [
        "# Templates Generation\n",
        "\n",
        "# Creating models of templates\n",
        "models = [\n",
        "    ('LR', LogisticRegression(max_iter=200)),\n",
        "    ('KNN', KNeighborsClassifier()),\n",
        "    ('CART', DecisionTreeClassifier()),\n",
        "    ('NB', GaussianNB()),\n",
        "    ('SVM', SVC())\n",
        "]\n",
        "\n",
        "# Generating results with Cross Validation\n",
        "results = []\n",
        "names = []\n",
        "\n",
        "for name, model in models:\n",
        "    cv_results = cross_val_score(model, X_train, y_train, cv=k_fold, scoring=scoring)\n",
        "    add_element_to_list(results, cv_results)\n",
        "    add_element_to_list(names, name)\n",
        "    msg = \"%s: %f (%f)\" % (name, cv_results.mean(), cv_results.std())\n",
        "    print(msg)\n",
        "\n",
        "# Generating Comparison Chart\n",
        "plot_graph('Comparison of Models', results, names)"
      ]
    },
    {
      "cell_type": "markdown",
      "metadata": {
        "id": "xERYYzhOKjmA"
      },
      "source": [
        "### Data Transformation\n",
        "\n",
        "Aiming to identify better results data transformation will be perfomed."
      ]
    },
    {
      "cell_type": "markdown",
      "metadata": {
        "id": "eS8hbro8Jvqx"
      },
      "source": [
        "#### Standardized Data and Normalized Data"
      ]
    },
    {
      "cell_type": "code",
      "execution_count": null,
      "metadata": {
        "id": "iqFFvVcdLt9j"
      },
      "outputs": [],
      "source": [
        "# Setting cross-validation parameters and partitions\n",
        "scoring = 'accuracy'\n",
        "number_partitions = 10\n",
        "seed = 7\n",
        "k_fold = StratifiedKFold(n_splits=number_partitions, shuffle=True, random_state=seed)\n",
        "\n",
        "# Setting a global seed\n",
        "np.random.seed(7)\n",
        "\n",
        "# Transformations that will be used\n",
        "standard_scaler = ('StandardScaler', StandardScaler())\n",
        "min_max_scaler = ('MinMaxScaler', MinMaxScaler())"
      ]
    },
    {
      "cell_type": "code",
      "execution_count": null,
      "metadata": {
        "colab": {
          "background_save": true,
          "base_uri": "https://localhost:8080/"
        },
        "id": "t_tsJ1gGKmXn",
        "outputId": "18f6a9c5-a9b3-4b44-bad7-547e5e1c458f"
      },
      "outputs": [
        {
          "name": "stdout",
          "output_type": "stream",
          "text": [
            "LR-orig: 0.998969 (0.000255)\n",
            "LR-std: 0.999175 (0.000209)\n",
            "LR-nml: 0.999034 (0.000226)\n",
            "KNN-orig: 0.998363 (0.000068)\n",
            "KNN-std: 0.999473 (0.000169)\n",
            "KNN-nml: 0.999482 (0.000158)\n",
            "CART-orig: 0.999122 (0.000146)\n",
            "CART-std: 0.999074 (0.000137)\n",
            "CART-nml: 0.999113 (0.000114)\n",
            "NB-orig: 0.992618 (0.000310)\n",
            "NB-std: 0.977809 (0.001215)\n",
            "NB-nml: 0.977809 (0.001215)\n",
            "SVM-orig: 0.998271 (0.000021)\n",
            "SVM-std: 0.999359 (0.000176)\n",
            "SVM-nml: 0.999364 (0.000145)\n"
          ]
        },
        {
          "data": {
            "image/png": "[encoded data removed]",
            "text/plain": [
              "<Figure size 1500x1000 with 1 Axes>"
            ]
          },
          "metadata": {},
          "output_type": "display_data"
        }
      ],
      "source": [
        "# Creating models of templates\n",
        "models = [\n",
        "    ('LR', LogisticRegression(max_iter=200)),\n",
        "    ('KNN', KNeighborsClassifier()),\n",
        "    ('CART', DecisionTreeClassifier()),\n",
        "    ('NB', GaussianNB()),\n",
        "    ('SVM', SVC())\n",
        "]\n",
        "\n",
        "# Generating Pipelines\n",
        "pipelines = []\n",
        "\n",
        "for name, model in models:\n",
        "    # Original Dataset\n",
        "    original = (f\"{name}-orig\", Pipeline([(name, model)]))\n",
        "    add_element_to_list(pipelines, original)\n",
        "\n",
        "    # Standardized Dataset\n",
        "    standard = (f\"{name}-std\", Pipeline([(standard_scaler[0], standard_scaler[1]), (name, model)]))\n",
        "    add_element_to_list(pipelines, standard)\n",
        "\n",
        "    # Normalized Dataset\n",
        "    normalized = (f\"{name}-nml\", Pipeline([(min_max_scaler[0], min_max_scaler[1]), (name, model)]))\n",
        "    add_element_to_list(pipelines, normalized)\n",
        "\n",
        "results = []\n",
        "names = []\n",
        "\n",
        "for name, model in pipelines:\n",
        "    cv_results = cross_val_score(model, X_train, y_train, cv=k_fold, scoring=scoring)\n",
        "    add_element_to_list(results, cv_results)\n",
        "    add_element_to_list(names, name)\n",
        "    msg = \"%s: %f (%f)\" % (name, cv_results.mean(), cv_results.std())\n",
        "    print(msg)\n",
        "\n",
        "# Generating Comparison Chart\n",
        "plot_graph('Comparison of Models - Original, Standardized and Normalized Dataset', results, names)"
      ]
    },
    {
      "cell_type": "markdown",
      "metadata": {
        "id": "KC8dgChyQl26"
      },
      "source": [
        "### Feature Selection\n",
        "\n",
        "Aiming to identify the parameters that are most relevant for the analyses, feature selection was carried out.\n",
        "\n",
        "Feature selection performed only on data reserved for training"
      ]
    },
    {
      "cell_type": "markdown",
      "metadata": {
        "id": "2rDW0YMNRaQ_"
      },
      "source": [
        "#### Univariate Selection"
      ]
    },
    {
      "cell_type": "code",
      "execution_count": null,
      "metadata": {
        "colab": {
          "base_uri": "https://localhost:8080/"
        },
        "id": "mdcIwqXfQoMp",
        "outputId": "808ee262-26b6-4b96-fd15-f4e6e12a747f"
      },
      "outputs": [
        {
          "name": "stdout",
          "output_type": "stream",
          "text": [
            "Number of original attributes: 30\n",
            "Name of original attributes: ['Time', 'V1', 'V2', 'V3', 'V4', 'V5', 'V6', 'V7', 'V8', 'V9', 'V10', 'V11', 'V12', 'V13', 'V14', 'V15', 'V16', 'V17', 'V18', 'V19', 'V20', 'V21', 'V22', 'V23', 'V24', 'V25', 'V26', 'V27', 'V28', 'Amount']\n",
            "\n",
            "Number of reduced attributes: 4\n",
            "Name of reduced attributes: ['V10' 'V12' 'V14' 'V17']\n",
            "\n",
            "Score of attributes:\n",
            "- Time: 36.583\n",
            "- V1: 2398.961\n",
            "- V2: 1849.202\n",
            "- V3: 8912.438\n",
            "- V4: 4160.704\n",
            "- V5: 2012.629\n",
            "- V6: 459.08\n",
            "- V7: 8061.689\n",
            "- V8: 130.191\n",
            "- V9: 2242.958\n",
            "- V10: 11247.658\n",
            "- V11: 5697.245\n",
            "- V12: 16611.625\n",
            "- V13: 3.83\n",
            "- V14: 23448.098\n",
            "- V15: 2.728\n",
            "- V16: 9100.689\n",
            "- V17: 27200.679\n",
            "- V18: 2842.399\n",
            "- V19: 275.232\n",
            "- V20: 88.504\n",
            "- V21: 337.228\n",
            "- V22: 0.008\n",
            "- V23: 6.221\n",
            "- V24: 15.995\n",
            "- V25: 2.279\n",
            "- V26: 5.166\n",
            "- V27: 84.16\n",
            "- V28: 11.1\n",
            "- Amount: 10.229\n"
          ]
        }
      ],
      "source": [
        "# Attribute selection with SelectKBest\n",
        "best_var = SelectKBest(score_func=f_classif, k=4)\n",
        "\n",
        "# Execute the scoring function on (X_train, y_train) and get the selected attributes\n",
        "fit = best_var.fit(X_train, y_train)\n",
        "\n",
        "# Reduces X_train for selected attributes\n",
        "features = fit.transform(X_train)\n",
        "\n",
        "# Printing Results\n",
        "number_original_atributes = X_train.shape[1]\n",
        "print(f\"Number of original attributes: {number_original_atributes}\")\n",
        "\n",
        "name_original_atributes = dataset.columns.tolist()[:30]\n",
        "print(f\"Name of original attributes: {name_original_atributes}\")\n",
        "\n",
        "number_reduced_atributes = features.shape[1]\n",
        "print(f\"\\nNumber of reduced attributes: {number_reduced_atributes}\")\n",
        "\n",
        "name_reduced_atributes = best_var.get_feature_names_out(input_features=dataset.columns[0:30])\n",
        "print(f\"Name of reduced attributes: {name_reduced_atributes}\")\n",
        "\n",
        "atributes_scores = dict(zip(dataset.columns[:30], [round(score, 3) for score in fit.scores_]))\n",
        "print(f\"\\nScore of attributes:\")\n",
        "\n",
        "for column, score in atributes_scores.items():\n",
        "    print(f'- {column}: {score}')"
      ]
    },
    {
      "cell_type": "code",
      "execution_count": null,
      "metadata": {
        "colab": {
          "background_save": true,
          "base_uri": "https://localhost:8080/"
        },
        "id": "7ed3blhsMbXw",
        "outputId": "176ff19b-9f4c-4330-8049-1b5195546d26"
      },
      "outputs": [
        {
          "name": "stdout",
          "output_type": "stream",
          "text": [
            "LR: 0.999135 (0.000194)\n",
            "KNN: 0.999539 (0.000132)\n",
            "CART: 0.999135 (0.000157)\n",
            "NB: 0.990849 (0.000565)\n",
            "SVM: 0.999486 (0.000143)\n"
          ]
        },
        {
          "data": {
            "image/png": "[encoded data removed]",
            "text/plain": [
              "<Figure size 1500x1000 with 1 Axes>"
            ]
          },
          "metadata": {},
          "output_type": "display_data"
        }
      ],
      "source": [
        "# Defining constants\n",
        "\n",
        "# Setting cross-validation parameters and partitions\n",
        "scoring = 'accuracy'\n",
        "number_partitions = 10\n",
        "seed = 7\n",
        "k_fold = StratifiedKFold(n_splits=number_partitions, shuffle=True, random_state=seed)\n",
        "\n",
        "# Setting a global seed\n",
        "np.random.seed(7)\n",
        "\n",
        "# Templates Generation\n",
        "\n",
        "# Creating models of templates\n",
        "models = [\n",
        "    ('LR', LogisticRegression(max_iter=200)),\n",
        "    ('KNN', KNeighborsClassifier()),\n",
        "    ('CART', DecisionTreeClassifier()),\n",
        "    ('NB', GaussianNB()),\n",
        "    ('SVM', SVC())\n",
        "]\n",
        "\n",
        "# Generating results with Cross Validation and Feature Selection\n",
        "results = []\n",
        "names = []\n",
        "\n",
        "for name, model in models:\n",
        "    cv_results = cross_val_score(model, features, y_train, cv=k_fold, scoring=scoring)\n",
        "    add_element_to_list(results, cv_results)\n",
        "    add_element_to_list(names, name)\n",
        "    msg = \"%s: %f (%f)\" % (name, cv_results.mean(), cv_results.std())\n",
        "    print(msg)\n",
        "\n",
        "# Generating Comparison Chart\n",
        "plot_graph('Comparison of Models', results, names)"
      ]
    },
    {
      "cell_type": "markdown",
      "metadata": {
        "id": "FeDJDnxjV6Yk"
      },
      "source": [
        "#### Recursive Attribute Elimination"
      ]
    },
    {
      "cell_type": "code",
      "execution_count": null,
      "metadata": {
        "colab": {
          "background_save": true,
          "base_uri": "https://localhost:8080/"
        },
        "id": "0gjchBr5WxKR",
        "outputId": "41baa552-9e2f-4b54-ea3d-86feb7a49001"
      },
      "outputs": [
        {
          "name": "stdout",
          "output_type": "stream",
          "text": [
            "Number of original attributes: 30\n",
            "Name of original attributes: ['Time', 'V1', 'V2', 'V3', 'V4', 'V5', 'V6', 'V7', 'V8', 'V9', 'V10', 'V11', 'V12', 'V13', 'V14', 'V15', 'V16', 'V17', 'V18', 'V19', 'V20', 'V21', 'V22', 'V23', 'V24', 'V25', 'V26', 'V27', 'V28', 'Amount']\n",
            "\n",
            "Number of reduced attributes: 4\n",
            "Name of reduced attributes: ['V4' 'V14' 'V21' 'V22']\n",
            "\n",
            "Score of attributes:\n",
            "- Time:\n",
            "    Result: False\n",
            "    Ranking: 27\n",
            "- V1:\n",
            "    Result: False\n",
            "    Ranking: 20\n",
            "- V2:\n",
            "    Result: False\n",
            "    Ranking: 22\n",
            "- V3:\n",
            "    Result: False\n",
            "    Ranking: 19\n",
            "- V4:\n",
            "    Result: True\n",
            "    Ranking: 1\n",
            "- V5:\n",
            "    Result: False\n",
            "    Ranking: 12\n",
            "- V6:\n",
            "    Result: False\n",
            "    Ranking: 16\n",
            "- V7:\n",
            "    Result: False\n",
            "    Ranking: 24\n",
            "- V8:\n",
            "    Result: False\n",
            "    Ranking: 5\n",
            "- V9:\n",
            "    Result: False\n",
            "    Ranking: 7\n",
            "- V10:\n",
            "    Result: False\n",
            "    Ranking: 2\n",
            "- V11:\n",
            "    Result: False\n",
            "    Ranking: 13\n",
            "- V12:\n",
            "    Result: False\n",
            "    Ranking: 23\n",
            "- V13:\n",
            "    Result: False\n",
            "    Ranking: 3\n",
            "- V14:\n",
            "    Result: True\n",
            "    Ranking: 1\n",
            "- V15:\n",
            "    Result: False\n",
            "    Ranking: 15\n",
            "- V16:\n",
            "    Result: False\n",
            "    Ranking: 4\n",
            "- V17:\n",
            "    Result: False\n",
            "    Ranking: 26\n",
            "- V18:\n",
            "    Result: False\n",
            "    Ranking: 21\n",
            "- V19:\n",
            "    Result: False\n",
            "    Ranking: 17\n",
            "- V20:\n",
            "    Result: False\n",
            "    Ranking: 9\n",
            "- V21:\n",
            "    Result: True\n",
            "    Ranking: 1\n",
            "- V22:\n",
            "    Result: True\n",
            "    Ranking: 1\n",
            "- V23:\n",
            "    Result: False\n",
            "    Ranking: 8\n",
            "- V24:\n",
            "    Result: False\n",
            "    Ranking: 11\n",
            "- V25:\n",
            "    Result: False\n",
            "    Ranking: 14\n",
            "- V26:\n",
            "    Result: False\n",
            "    Ranking: 18\n",
            "- V27:\n",
            "    Result: False\n",
            "    Ranking: 6\n",
            "- V28:\n",
            "    Result: False\n",
            "    Ranking: 10\n",
            "- Amount:\n",
            "    Result: False\n",
            "    Ranking: 25\n"
          ]
        }
      ],
      "source": [
        "# Model creation\n",
        "model = LogisticRegression(max_iter=200)\n",
        "\n",
        "# Recursive Attribute Elimination\n",
        "rfe = RFE(model, n_features_to_select=4)\n",
        "fit = rfe.fit(X_train, y_train)\n",
        "\n",
        "# Reduces X_train for selected attributes\n",
        "features = fit.transform(X_train)\n",
        "\n",
        "# Printing Results\n",
        "number_original_atributes = X_train.shape[1]\n",
        "print(f\"Number of original attributes: {number_original_atributes}\")\n",
        "\n",
        "name_original_atributes = dataset.columns.tolist()[:30]\n",
        "print(f\"Name of original attributes: {name_original_atributes}\")\n",
        "\n",
        "number_reduced_atributes = fit.n_features_\n",
        "print(f\"\\nNumber of reduced attributes: {number_reduced_atributes}\")\n",
        "\n",
        "name_reduced_atributes = fit.get_feature_names_out(input_features=dataset.columns[0:30])\n",
        "print(f\"Name of reduced attributes: {name_reduced_atributes}\")\n",
        "\n",
        "print(f\"\\nScore of attributes:\")\n",
        "atributes_support = fit.support_\n",
        "atributes_ranking = fit.ranking_\n",
        "\n",
        "for i in range(len(atributes_support)):\n",
        "  result = atributes_support[i]\n",
        "  ranking = atributes_ranking[i]\n",
        "\n",
        "  print(f'- {name_original_atributes[i]}:')\n",
        "  print(f'    Result: {result}')\n",
        "  print(f'    Ranking: {ranking}')"
      ]
    },
    {
      "cell_type": "code",
      "execution_count": null,
      "metadata": {
        "colab": {
          "background_save": true,
          "base_uri": "https://localhost:8080/"
        },
        "id": "o8F6BPXsSCtm",
        "outputId": "f14dc05f-5d38-4d71-9d7f-c18119a52ec2"
      },
      "outputs": [
        {
          "name": "stdout",
          "output_type": "stream",
          "text": [
            "LR: 0.998920 (0.000230)\n",
            "KNN: 0.999346 (0.000184)\n",
            "CART: 0.998977 (0.000238)\n",
            "NB: 0.989826 (0.000565)\n",
            "SVM: 0.999307 (0.000181)\n"
          ]
        },
        {
          "data": {
            "image/png": "[encoded data removed]",
            "text/plain": [
              "<Figure size 1500x1000 with 1 Axes>"
            ]
          },
          "metadata": {},
          "output_type": "display_data"
        }
      ],
      "source": [
        "# Defining constants\n",
        "\n",
        "# Setting cross-validation parameters and partitions\n",
        "scoring = 'accuracy'\n",
        "number_partitions = 10\n",
        "seed = 7\n",
        "k_fold = StratifiedKFold(n_splits=number_partitions, shuffle=True, random_state=seed)\n",
        "\n",
        "# Setting a global seed\n",
        "np.random.seed(7)\n",
        "\n",
        "# Templates Generation\n",
        "\n",
        "# Creating models of templates\n",
        "models = [\n",
        "    ('LR', LogisticRegression(max_iter=200)),\n",
        "    ('KNN', KNeighborsClassifier()),\n",
        "    ('CART', DecisionTreeClassifier()),\n",
        "    ('NB', GaussianNB()),\n",
        "    ('SVM', SVC())\n",
        "]\n",
        "\n",
        "# Generating results with Cross Validation and Feature Selection\n",
        "results = []\n",
        "names = []\n",
        "\n",
        "for name, model in models:\n",
        "    cv_results = cross_val_score(model, features, y_train, cv=k_fold, scoring=scoring)\n",
        "    add_element_to_list(results, cv_results)\n",
        "    add_element_to_list(names, name)\n",
        "    msg = \"%s: %f (%f)\" % (name, cv_results.mean(), cv_results.std())\n",
        "    print(msg)\n",
        "\n",
        "# Generating Comparison Chart\n",
        "plot_graph('Comparison of Models', results, names)"
      ]
    },
    {
      "cell_type": "markdown",
      "metadata": {
        "id": "8OVpRtPRM1Lt"
      },
      "source": [
        "#### Importance of Attributes"
      ]
    },
    {
      "cell_type": "code",
      "execution_count": null,
      "metadata": {
        "colab": {
          "background_save": true
        },
        "id": "ADeKiheLM8Oq",
        "outputId": "6a89925c-2af8-4377-b27d-fc381e46c32d"
      },
      "outputs": [
        {
          "name": "stdout",
          "output_type": "stream",
          "text": [
            "Number of original attributes: 30\n",
            "Name of original attributes: ['Time', 'V1', 'V2', 'V3', 'V4', 'V5', 'V6', 'V7', 'V8', 'V9', 'V10', 'V11', 'V12', 'V13', 'V14', 'V15', 'V16', 'V17', 'V18', 'V19', 'V20', 'V21', 'V22', 'V23', 'V24', 'V25', 'V26', 'V27', 'V28', 'Amount']\n",
            "\n",
            "Number of reduced attributes: 4\n",
            "Name of reduced attributes: ['V11', 'V12', 'V14', 'V17']\n",
            "\n",
            "Score of attributes:\n",
            "- Time: 0.016\n",
            "- V1: 0.014\n",
            "- V2: 0.014\n",
            "- V3: 0.034\n",
            "- V4: 0.036\n",
            "- V5: 0.013\n",
            "- V6: 0.013\n",
            "- V7: 0.026\n",
            "- V8: 0.016\n",
            "- V9: 0.032\n",
            "- V10: 0.073\n",
            "- V11: 0.09\n",
            "- V12: 0.081\n",
            "- V13: 0.013\n",
            "- V14: 0.116\n",
            "- V15: 0.012\n",
            "- V16: 0.068\n",
            "- V17: 0.148\n",
            "- V18: 0.041\n",
            "- V19: 0.015\n",
            "- V20: 0.015\n",
            "- V21: 0.016\n",
            "- V22: 0.013\n",
            "- V23: 0.01\n",
            "- V24: 0.012\n",
            "- V25: 0.011\n",
            "- V26: 0.015\n",
            "- V27: 0.013\n",
            "- V28: 0.012\n",
            "- Amount: 0.012\n"
          ]
        }
      ],
      "source": [
        "# Creation of the model for attribute selection\n",
        "model = ExtraTreesClassifier(n_estimators=100)\n",
        "model.fit(X_train, y_train)\n",
        "\n",
        "# Printing Results\n",
        "number_original_atributes = X_train.shape[1]\n",
        "print(f\"Number of original attributes: {number_original_atributes}\")\n",
        "\n",
        "name_original_atributes = dataset.columns.tolist()[:30]\n",
        "print(f\"Name of original attributes: {name_original_atributes}\")\n",
        "\n",
        "number_reduced_atributes = 4\n",
        "print(f\"\\nNumber of reduced attributes: {number_reduced_atributes}\")\n",
        "\n",
        "model_importance = model.feature_importances_\n",
        "ordered_model_importance = sorted(model_importance, reverse = True)[0:number_reduced_atributes]\n",
        "name_reduced_atributes = [\n",
        "    name_original_atributes[i] for i in range(len(model_importance))\n",
        "    if model_importance[i] in ordered_model_importance\n",
        "]\n",
        "print(f\"Name of reduced attributes: {name_reduced_atributes}\")\n",
        "\n",
        "print(f\"\\nScore of attributes:\")\n",
        "\n",
        "for i in range(len(model_importance)):\n",
        "  name = name_original_atributes[i]\n",
        "  importance = round(model_importance[i], 3)\n",
        "\n",
        "  print(f'- {name}: {importance}')\n",
        "\n",
        "# Create a selector based on the importance of attributes\n",
        "selector = SelectFromModel(model, threshold=-np.inf, max_features=number_reduced_atributes)\n",
        "\n",
        "# Fit the selector to the training data to select attributes\n",
        "selector.fit(X_train, y_train)\n",
        "\n",
        "# Reduces X_train for selected attributes\n",
        "features = selector.transform(X_train)"
      ]
    },
    {
      "cell_type": "code",
      "execution_count": null,
      "metadata": {
        "colab": {
          "background_save": true
        },
        "id": "nky_RtddTzmp",
        "outputId": "80b8c025-c74f-42f7-865d-495ad3ea37eb"
      },
      "outputs": [
        {
          "name": "stdout",
          "output_type": "stream",
          "text": [
            "LR: 0.999109 (0.000206)\n",
            "KNN: 0.999451 (0.000156)\n",
            "CART: 0.999140 (0.000186)\n",
            "NB: 0.993531 (0.000508)\n",
            "SVM: 0.999500 (0.000140)\n"
          ]
        },
        {
          "data": {
            "image/png": "[encoded data removed]",
            "text/plain": [
              "<Figure size 1500x1000 with 1 Axes>"
            ]
          },
          "metadata": {},
          "output_type": "display_data"
        }
      ],
      "source": [
        "# Defining constants\n",
        "\n",
        "# Setting cross-validation parameters and partitions\n",
        "scoring = 'accuracy'\n",
        "number_partitions = 10\n",
        "seed = 7\n",
        "k_fold = StratifiedKFold(n_splits=number_partitions, shuffle=True, random_state=seed)\n",
        "\n",
        "# Setting a global seed\n",
        "np.random.seed(7)\n",
        "\n",
        "# Templates Generation\n",
        "\n",
        "# Creating models of templates\n",
        "models = [\n",
        "    ('LR', LogisticRegression(max_iter=200)),\n",
        "    ('KNN', KNeighborsClassifier()),\n",
        "    ('CART', DecisionTreeClassifier()),\n",
        "    ('NB', GaussianNB()),\n",
        "    ('SVM', SVC())\n",
        "]\n",
        "\n",
        "# Generating results with Cross Validation and Feature Selection\n",
        "results = []\n",
        "names = []\n",
        "\n",
        "for name, model in models:\n",
        "    cv_results = cross_val_score(model, features, y_train, cv=k_fold, scoring=scoring)\n",
        "    add_element_to_list(results, cv_results)\n",
        "    add_element_to_list(names, name)\n",
        "    msg = \"%s: %f (%f)\" % (name, cv_results.mean(), cv_results.std())\n",
        "    print(msg)\n",
        "\n",
        "# Generating Comparison Chart\n",
        "plot_graph('Comparison of Models', results, names)"
      ]
    },
    {
      "cell_type": "markdown",
      "metadata": {
        "id": "-mEN-UFFD386"
      },
      "source": [
        "---\n",
        "## Modeling and Training"
      ]
    },
    {
      "cell_type": "markdown",
      "metadata": {
        "id": "6Ngjq4oo97YA"
      },
      "source": [
        "### Selected Algorithms\n",
        "\n",
        "Based on the analyzes carried out in the Data Preparation stage, the most suitable algorithms for solving the problem will be analyzed here."
      ]
    },
    {
      "cell_type": "markdown",
      "metadata": {
        "id": "k51i56Lg-QTP"
      },
      "source": [
        "In the Data Preparation stage, five classification algorithms were tested:\n",
        "\n",
        "- Logistic Regression - LR\n",
        "- K-Nearest Neighbors - KNN\n",
        "- Classification Tree - CART\n",
        "- Naive Bayes - NB\n",
        "- Support Vector Machine - SVM\n"
      ]
    },
    {
      "cell_type": "markdown",
      "metadata": {
        "id": "fOu-hstWINjj"
      },
      "source": [
        "Furthermore, aiming to achieve better results compared to the aforementioned algorithms, all of them were tested under different scenarios, which were:\n",
        "\n",
        "- Original Dataset\n",
        "- Transformed Dataset\n",
        "- Dataset with Feature Selection"
      ]
    },
    {
      "cell_type": "markdown",
      "metadata": {
        "id": "OEeGrE5JIVUV"
      },
      "source": [
        "In the table below, the top five results obtained by the study are attached:\n",
        "\n",
        "| Section             | Category                 | Algorithm | Average Accuracy | Standard Deviation |\n",
        "|---------------------|--------------------------|-----------|------------------|--------------------|\n",
        "| Feature Selection   | Univariate Selection     | KNN       | 99.9539%         | 0.0001             |\n",
        "| Feature Selection   | Univariate Selection     | SVM       | 99.9486%         | 0.0001            |\n",
        "| Data Transformation | Normalized               | KNN       | 99.9482%         | 0.0002             |\n",
        "| Data Transformation | Standardized             | KNN       | 99.9473%         | 0.0002             |\n",
        "| Feature Selection   | Importance of Attributes | KNN       | 99.9473%         | 0.0001             |"
      ]
    },
    {
      "cell_type": "markdown",
      "metadata": {
        "id": "DWa0RObgIZ7D"
      },
      "source": [
        "Therefore, we can conclude that the algorithms that showed the best results were KNN and SVM. Additionally, the scenarios that exhibited the best performance were those involving feature selection and data transformation."
      ]
    },
    {
      "cell_type": "markdown",
      "metadata": {
        "id": "92oycc4j-k-t"
      },
      "source": [
        "### Training Performance\n",
        "\n",
        "At this stage, it will be assessed whether the model was properly trained and whether underfitting was detected."
      ]
    },
    {
      "cell_type": "markdown",
      "metadata": {
        "id": "P98LJDuF-3af"
      },
      "source": [
        "To ensure that the algorithms were properly trained, it was decided to evaluate the models' performance on various subsets of the original data using cross-validation. This strategy aimed to obtain an average estimate of the results at each stage of the process.\n",
        "\n",
        "As the average accuracy resulting from the 10 partitions defined as standard for model evaluation exceeded 99%, a satisfactory adaptation of the classifiers to the training sets was observed. Therefore, it is possible to conclude that this result indicates the absence of underfitting, demonstrating that the models were able to adequately adjust to the training data."
      ]
    },
    {
      "cell_type": "markdown",
      "metadata": {
        "id": "gnsIxV2B7eIx"
      },
      "source": [
        "___\n",
        "## Results Assessment"
      ]
    },
    {
      "cell_type": "markdown",
      "metadata": {
        "id": "OWpYlkWp_jQD"
      },
      "source": [
        "### Assessment Metrics\n",
        "\n",
        "At this stage, a discussion will be made about which metrics will be used to evaluate the model."
      ]
    },
    {
      "cell_type": "markdown",
      "metadata": {
        "id": "YCPt3R8D7lYf"
      },
      "source": [
        "The evaluation metric adopted for the model was accuracy, which represents the classifier's accuracy rate.\n",
        "\n",
        "It is defined by the following equation:\n",
        "\n",
        "- Acc(h) = 1 - Err(h)\n",
        "\n",
        "Where:\n",
        "- Err(h) is error rate.\n",
        "\n",
        "So that:\n",
        "\n",
        "- The closer the result is to 1, it means that the error rate was lower."
      ]
    },
    {
      "cell_type": "markdown",
      "metadata": {
        "id": "9FEB1E8M_nV7"
      },
      "source": [
        "### Training and Test Results\n",
        "\n",
        "At this stage, training will be carried out with the models that presented the five best results and tests will be carried out with the test base."
      ]
    },
    {
      "cell_type": "markdown",
      "metadata": {
        "id": "E5mjhTttQ8BW"
      },
      "source": [
        "#### KNN with Feature Selection"
      ]
    },
    {
      "cell_type": "markdown",
      "metadata": {
        "id": "ULMmyce5RWkz"
      },
      "source": [
        "##### Univariate Selection"
      ]
    },
    {
      "cell_type": "code",
      "execution_count": null,
      "metadata": {
        "colab": {
          "background_save": true
        },
        "id": "EIFhFSmIQ-qS",
        "outputId": "97a7146c-4d1b-408f-91c4-b62a0b182966"
      },
      "outputs": [
        {
          "name": "stdout",
          "output_type": "stream",
          "text": [
            "Accuracy: 0.9995259997893332\n",
            "Classification Report:\n",
            "              precision    recall  f1-score   support\n",
            "\n",
            "         0.0       1.00      1.00      1.00     56864\n",
            "         1.0       0.95      0.77      0.85        98\n",
            "\n",
            "    accuracy                           1.00     56962\n",
            "   macro avg       0.97      0.88      0.92     56962\n",
            "weighted avg       1.00      1.00      1.00     56962\n",
            "\n"
          ]
        }
      ],
      "source": [
        "# Attribute selection with SelectKBest\n",
        "best_var = SelectKBest(score_func=f_classif, k=4)\n",
        "\n",
        "# Execute the scoring function on (X_train, y_train) and get the selected attributes\n",
        "fit = best_var.fit(X_train, y_train)\n",
        "\n",
        "# Reduces X_train and X_test for selected attributes\n",
        "x_train_featured = fit.transform(X_train)\n",
        "x_test_featured = fit.transform(X_test)\n",
        "\n",
        "# Initialize KNeighborsClassifier\n",
        "knn_classifier = KNeighborsClassifier()\n",
        "\n",
        "# Training the classifier\n",
        "knn_classifier.fit(x_train_featured, y_train)\n",
        "\n",
        "# Predict labels for test data\n",
        "y_pred = knn_classifier.predict(x_test_featured)\n",
        "\n",
        "# Evaluate performance\n",
        "accuracy = accuracy_score(y_test, y_pred)\n",
        "report = classification_report(y_test, y_pred)\n",
        "\n",
        "print(\"Accuracy:\", accuracy)\n",
        "print(\"Classification Report:\")\n",
        "print(report)"
      ]
    },
    {
      "cell_type": "markdown",
      "metadata": {
        "id": "vRh-Y-otReFc"
      },
      "source": [
        "##### Importance of Attributes"
      ]
    },
    {
      "cell_type": "code",
      "execution_count": null,
      "metadata": {
        "colab": {
          "background_save": true
        },
        "id": "uJSgk-leRgGa",
        "outputId": "d80bceee-d7ac-4d5b-e4f5-42f53879188d"
      },
      "outputs": [
        {
          "name": "stdout",
          "output_type": "stream",
          "text": [
            "Accuracy: 0.9995435553526912\n",
            "Classification Report:\n",
            "              precision    recall  f1-score   support\n",
            "\n",
            "         0.0       1.00      1.00      1.00     56864\n",
            "         1.0       0.95      0.78      0.85        98\n",
            "\n",
            "    accuracy                           1.00     56962\n",
            "   macro avg       0.97      0.89      0.93     56962\n",
            "weighted avg       1.00      1.00      1.00     56962\n",
            "\n"
          ]
        }
      ],
      "source": [
        "# Initialize ExtraTreesClassifier\n",
        "et_classifier = ExtraTreesClassifier(n_estimators=100)\n",
        "\n",
        "# Fit ExtraTreesClassifier to training data\n",
        "et_classifier.fit(X_train, y_train)\n",
        "\n",
        "# Get feature importances\n",
        "feature_importances = et_classifier.feature_importances_\n",
        "\n",
        "# Sort feature importances in descending order\n",
        "sorted_indices = feature_importances.argsort()[::-1]\n",
        "\n",
        "# Select top k features (e.g., top 4)\n",
        "selected_indices = sorted_indices[:4]\n",
        "\n",
        "# Reduce X_train and X_test to selected features\n",
        "x_train_featured = X_train[:, selected_indices]\n",
        "x_test_featured = X_test[:, selected_indices]\n",
        "\n",
        "# Training the classifier\n",
        "et_classifier.fit(x_train_featured, y_train)\n",
        "\n",
        "# Predict labels for test data\n",
        "y_pred = et_classifier.predict(x_test_featured)\n",
        "\n",
        "# Evaluate performance\n",
        "accuracy = accuracy_score(y_test, y_pred)\n",
        "report = classification_report(y_test, y_pred)\n",
        "\n",
        "print(\"Accuracy:\", accuracy)\n",
        "print(\"Classification Report:\")\n",
        "print(report)"
      ]
    },
    {
      "cell_type": "markdown",
      "metadata": {
        "id": "7cD-3O0oQbyL"
      },
      "source": [
        "#### SVM with Feature Selection"
      ]
    },
    {
      "cell_type": "markdown",
      "metadata": {
        "id": "Usd98jL-Skvi"
      },
      "source": [
        "##### Univariate Selection"
      ]
    },
    {
      "cell_type": "code",
      "execution_count": null,
      "metadata": {
        "colab": {
          "background_save": true
        },
        "id": "3Qn5opgwQguS",
        "outputId": "478bb19a-7268-4b5f-8b51-000bdf4d3d9a"
      },
      "outputs": [
        {
          "name": "stdout",
          "output_type": "stream",
          "text": [
            "Accuracy: 0.9994557775359011\n",
            "Classification Report:\n",
            "              precision    recall  f1-score   support\n",
            "\n",
            "         0.0       1.00      1.00      1.00     56864\n",
            "         1.0       0.96      0.71      0.82        98\n",
            "\n",
            "    accuracy                           1.00     56962\n",
            "   macro avg       0.98      0.86      0.91     56962\n",
            "weighted avg       1.00      1.00      1.00     56962\n",
            "\n"
          ]
        }
      ],
      "source": [
        "# Attribute selection with SelectKBest\n",
        "best_var = SelectKBest(score_func=f_classif, k=4)\n",
        "\n",
        "# Execute the scoring function on (X_train, y_train) and get the selected attributes\n",
        "fit = best_var.fit(X_train, y_train)\n",
        "\n",
        "# Reduces X_train and X_test for selected attributes\n",
        "x_train_featured = fit.transform(X_train)\n",
        "x_test_featured = fit.transform(X_test)\n",
        "\n",
        "# Initialize SVC\n",
        "svc_classifier = SVC()\n",
        "\n",
        "# Training the classifier\n",
        "svc_classifier.fit(x_train_featured, y_train)\n",
        "\n",
        "# Predict labels for test data\n",
        "y_pred = svc_classifier.predict(x_test_featured)\n",
        "\n",
        "# Evaluate performance\n",
        "accuracy = accuracy_score(y_test, y_pred)\n",
        "report = classification_report(y_test, y_pred)\n",
        "\n",
        "print(\"Accuracy:\", accuracy)\n",
        "print(\"Classification Report:\")\n",
        "print(report)"
      ]
    },
    {
      "cell_type": "markdown",
      "metadata": {
        "id": "pDM3F2MhQhL0"
      },
      "source": [
        "#### KNN with Data Transformation"
      ]
    },
    {
      "cell_type": "markdown",
      "metadata": {
        "id": "1MOmQnvBR5tQ"
      },
      "source": [
        "##### Dataset Normalized"
      ]
    },
    {
      "cell_type": "code",
      "execution_count": null,
      "metadata": {
        "colab": {
          "background_save": true
        },
        "id": "kAgEvBMiQoWP",
        "outputId": "c3333311-bb85-446a-a6e1-e4e0e7349f7a"
      },
      "outputs": [
        {
          "name": "stdout",
          "output_type": "stream",
          "text": [
            "Accuracy: 0.9994733330992591\n",
            "Classification Report:\n",
            "              precision    recall  f1-score   support\n",
            "\n",
            "         0.0       1.00      1.00      1.00     56864\n",
            "         1.0       0.94      0.74      0.83        98\n",
            "\n",
            "    accuracy                           1.00     56962\n",
            "   macro avg       0.97      0.87      0.91     56962\n",
            "weighted avg       1.00      1.00      1.00     56962\n",
            "\n"
          ]
        }
      ],
      "source": [
        "pipeline = Pipeline([\n",
        "    ('scaler', MinMaxScaler()),  # Apply MinMaxScaler\n",
        "    ('classification', KNeighborsClassifier())  # KNN Classifier\n",
        "])\n",
        "\n",
        "# Train the pipeline\n",
        "pipeline.fit(X_train, y_train)\n",
        "\n",
        "# Make predictions on the test set\n",
        "y_pred = pipeline.predict(X_test)\n",
        "\n",
        "# Evaluate performance\n",
        "accuracy = accuracy_score(y_test, y_pred)\n",
        "report = classification_report(y_test, y_pred)\n",
        "\n",
        "print(\"Accuracy:\", accuracy)\n",
        "print(\"Classification Report:\")\n",
        "print(report)"
      ]
    },
    {
      "cell_type": "markdown",
      "metadata": {
        "id": "lIbrlppvR8Rg"
      },
      "source": [
        "##### Dataset Standardized"
      ]
    },
    {
      "cell_type": "code",
      "execution_count": null,
      "metadata": {
        "colab": {
          "background_save": true
        },
        "id": "ZtR570x6SAxI",
        "outputId": "f40c6cc4-95cc-42e7-9fd9-9fcd4e8e7efc"
      },
      "outputs": [
        {
          "name": "stdout",
          "output_type": "stream",
          "text": [
            "Accuracy: 0.9995786664794073\n",
            "Classification Report:\n",
            "              precision    recall  f1-score   support\n",
            "\n",
            "         0.0       1.00      1.00      1.00     56864\n",
            "         1.0       0.96      0.79      0.87        98\n",
            "\n",
            "    accuracy                           1.00     56962\n",
            "   macro avg       0.98      0.89      0.93     56962\n",
            "weighted avg       1.00      1.00      1.00     56962\n",
            "\n"
          ]
        }
      ],
      "source": [
        "pipeline = Pipeline([\n",
        "    ('scaler', StandardScaler()),  # Apply StandardScaler\n",
        "    ('classification', KNeighborsClassifier())  # KNN Classifier\n",
        "])\n",
        "\n",
        "# Train the pipeline\n",
        "pipeline.fit(X_train, y_train)\n",
        "\n",
        "# Make predictions on the test set\n",
        "y_pred = pipeline.predict(X_test)\n",
        "\n",
        "# Evaluate performance\n",
        "accuracy = accuracy_score(y_test, y_pred)\n",
        "report = classification_report(y_test, y_pred)\n",
        "\n",
        "print(\"Accuracy:\", accuracy)\n",
        "print(\"Classification Report:\")\n",
        "print(report)"
      ]
    },
    {
      "cell_type": "markdown",
      "metadata": {
        "id": "7bUbKP-iAqQp"
      },
      "source": [
        "### Final Evaluation\n",
        "\n",
        "At this stage, the final result obtained will be discussed, analyzing the presence of overfitting and the quality of the solution found."
      ]
    },
    {
      "cell_type": "markdown",
      "metadata": {
        "id": "-cNHEEt1A0fw"
      },
      "source": [
        "In the previous step, training and test results, we evaluated the performance of the algorithms with the test set for each of the top five algorithms identified.\n",
        "\n",
        "To conduct the analysis, the following criteria were taken into consideration:\n",
        "- Precision: It is the proportion of instances classified as positive that are truly positive.\n",
        "- Recall: It is the proportion of positive instances that were correctly identified by the model.\n",
        "- F1-score: It is the harmonic mean between precision and recall.\n",
        "- Support: It is the number of instances of each class in the dataset.\n",
        "- Accuracy: It is the proportion of all instances correctly classified.\n",
        "- Macro avg and weighted avg: These are averages of precision, recall, and f1-score metrics. Macro avg calculates the averages without considering the class distribution, while weighted avg takes into account the class distribution, meaning classes with more instances have more weight in the average."
      ]
    },
    {
      "cell_type": "markdown",
      "metadata": {
        "id": "Ftx8WTzgs8FN"
      },
      "source": [
        "Based on the results provided, the KNN algorithm with the standardized dataset presented the best performance, as it achieved the highest accuracy value (99.96%) and also the highest precision, recall and F1 score for the minority class (class 1.0).\n",
        "\n",
        "Carrying out a more detailed analysis of each of these parameters, we can infer that:\n",
        "\n",
        "- Accuracy: The accuracy of approximately 99.96% indicates that the model correctly classified almost all instances in the test dataset, as it indicates the proportion of correctly classified instances out of the total number of instances.\n",
        "\n",
        "- Precision (for class 1.0): The precision of 96% means that, among all instances predicted as class 1.0, 96% of them actually belonged to class 1.0, as it indicates the proportion of true positive instances among all instances predicted as positive.\n",
        "\n",
        "- Recall (for class 1.0): The recall of 79% indicates that the model correctly identified 79% of all actual class 1.0 instances, as it indicates the proportion of true positive instances among all actual positive instances.\n",
        "\n",
        "- F1-score (for class 1.0): The F1-score of 87% is the harmonic mean between precision and recall, providing a balance between precision and recall. A higher F1-score indicates a better balance between precision and recall."
      ]
    },
    {
      "cell_type": "markdown",
      "metadata": {
        "id": "QplUoy_mvZoX"
      },
      "source": [
        "\n",
        "Therefore, we can conclude that the algorithm's performance was highly satisfactory, and there was no overfitting, as the results from the test set were consistent with those from the training set."
      ]
    }
  ],
  "metadata": {
    "colab": {
      "collapsed_sections": [
        "skHCTfwM0_BE",
        "jkIvFpg7uDPH",
        "ubTZefueyUgf",
        "UO-Q1ftOHN0n",
        "kIuiduZCHvzq",
        "eS8hbro8Jvqx",
        "2rDW0YMNRaQ_",
        "FeDJDnxjV6Yk",
        "8OVpRtPRM1Lt",
        "P5G8pbUIC-pQ"
      ],
      "toc_visible": true,
      "provenance": [],
      "authorship_tag": "ABX9TyO9D4QWUyBmxjUI82OF/t7U",
      "include_colab_link": true
    },
    "kernelspec": {
      "display_name": "Python 3",
      "name": "python3"
    },
    "language_info": {
      "name": "python"
    }
  },
  "nbformat": 4,
  "nbformat_minor": 0
}